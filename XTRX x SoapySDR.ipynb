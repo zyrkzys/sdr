{
 "cells": [
  {
   "cell_type": "code",
   "execution_count": 1,
   "metadata": {},
   "outputs": [
    {
     "name": "stderr",
     "output_type": "stream",
     "text": [
      "15:51:42.720912 DEBUG:  xtrxllpciev0_discovery:263 [PCIE] pcie: Found `pcie:///dev/xtrx0`\n",
      "[INFO] Make connection: 'pcie:///dev/xtrx0'\n",
      "15:51:42.727312 INFO:   [XTRX] xtrx_open(): dev[0]='pcie:///dev/xtrx0'\n",
      "15:51:42.727378 INFO:   [CTRL] PCI:/dev/xtrx0: RFIC_GPIO 0x000300\n",
      "15:51:42.742793 INFO:   [CTRL] PCI:/dev/xtrx0: XTRX Rev4 (04000013)\n",
      "15:51:42.742818 INFO:   [BPCI] PCI:/dev/xtrx0: RX DMA STOP MIMO (BLK:0 TS:0); TX DMA STOP MIMO @0.0\n",
      "15:51:42.742831 INFO:   [PCIE] PCI:/dev/xtrx0: Device `pcie:///dev/xtrx0` has been opened successfully\n",
      "CPU Features: SSE2+ SSE4.1+ AVX+ FMA+\n",
      "15:51:42.855560 INFO:   [CTRL] PCI:/dev/xtrx0: RFIC_GPIO 0x000304\n",
      "15:51:42.955642 INFO:   [CTRL] PCI:/dev/xtrx0: FPGA V_GPIO set to 3280mV\n",
      "15:51:42.955653 INFO:   [CTRL] PCI:/dev/xtrx0: LMS PMIC DCDC out set to VA18=1880mV VA14=1480mV VA12=1340mV\n",
      "15:51:42.958833 INFO:   [CTRL] PCI:/dev/xtrx0: FPGA V_IO set to 1800mV\n",
      "15:51:42.968906 INFO:   [CTRL] PCI:/dev/xtrx0: RFIC_GPIO 0x000306\n",
      "15:51:42.979168 INFO:   [LSM7] PCI:/dev/xtrx0: LMS VER:7 REV:1 MASK:1 (3841)\n",
      "15:51:42.979172 INFO:   [CTRL] PCI:/dev/xtrx0: RFIC_GPIO 0x00031e\n",
      "[INFO] Created: `pcie:///dev/xtrx0`\n"
     ]
    }
   ],
   "source": [
    "#setup radio\n",
    "import SoapySDR\n",
    "from SoapySDR import *\n",
    "import numpy\n",
    "\n",
    "args = dict(driver=\"xtrx\")\n",
    "\n",
    "sdr = SoapySDR.Device(args)"
   ]
  },
  {
   "cell_type": "code",
   "execution_count": 2,
   "metadata": {},
   "outputs": [
    {
     "name": "stdout",
     "output_type": "stream",
     "text": [
      "{addr=pcie:///dev/xtrx0, dev=pcie:///dev/xtrx0, driver=xtrx, label=XTRX: pcie:///dev/xtrx0 (10Gbit), media=PCIe, module=SoapyXTRX, name=XTRX, serial=, type=xtrx}\n"
     ]
    }
   ],
   "source": [
    "#enumerate devices\n",
    "results = SoapySDR.Device.enumerate()\n",
    "for result in results: print(result)"
   ]
  },
  {
   "cell_type": "code",
   "execution_count": 3,
   "metadata": {},
   "outputs": [
    {
     "name": "stdout",
     "output_type": "stream",
     "text": [
      "('LNAH', 'LNAL', 'LNAW')\n",
      "('LNA', 'TIA', 'PGA')\n",
      "3e+07, 3.8e+09\n"
     ]
    }
   ],
   "source": [
    "#query device info\n",
    "print(sdr.listAntennas(SOAPY_SDR_RX, 0))\n",
    "print(sdr.listGains(SOAPY_SDR_RX, 0))\n",
    "freqs = sdr.getFrequencyRange(SOAPY_SDR_RX, 0)\n",
    "for freqRange in freqs: print(freqRange)"
   ]
  },
  {
   "cell_type": "code",
   "execution_count": null,
   "metadata": {},
   "outputs": [],
   "source": []
  }
 ],
 "metadata": {
  "kernelspec": {
   "display_name": "Python 3 (ipykernel)",
   "language": "python",
   "name": "python3"
  },
  "language_info": {
   "codemirror_mode": {
    "name": "ipython",
    "version": 3
   },
   "file_extension": ".py",
   "mimetype": "text/x-python",
   "name": "python",
   "nbconvert_exporter": "python",
   "pygments_lexer": "ipython3",
   "version": "3.8.10"
  }
 },
 "nbformat": 4,
 "nbformat_minor": 4
}
